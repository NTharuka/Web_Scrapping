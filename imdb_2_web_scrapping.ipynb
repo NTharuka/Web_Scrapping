{
  "nbformat": 4,
  "nbformat_minor": 0,
  "metadata": {
    "colab": {
      "provenance": [],
      "include_colab_link": true
    },
    "kernelspec": {
      "name": "python3",
      "display_name": "Python 3"
    },
    "language_info": {
      "name": "python"
    }
  },
  "cells": [
    {
      "cell_type": "markdown",
      "metadata": {
        "id": "view-in-github",
        "colab_type": "text"
      },
      "source": [
        "<a href=\"https://colab.research.google.com/github/NTharuka/Web_Scrapping/blob/main/imdb_2_web_scrapping.ipynb\" target=\"_parent\"><img src=\"https://colab.research.google.com/assets/colab-badge.svg\" alt=\"Open In Colab\"/></a>"
      ]
    },
    {
      "cell_type": "code",
      "execution_count": null,
      "metadata": {
        "id": "GZpo9_3fpx5y"
      },
      "outputs": [],
      "source": [
        "## no 1 \n",
        "\n",
        "\n",
        "\n",
        "import requests\n",
        "import re\n",
        "import openpyxl\n",
        "from bs4 import BeautifulSoup\n",
        "\n",
        "excel = openpyxl.Workbook()\n",
        "excelSheet = excel.active\n",
        "excelSheet.append([\"Product Number\" ,\"Product Name\" ,\"New Price\" ,\"Old Price\" ])\n",
        "\n",
        "try:\n",
        "  soures = requests.get('')\n",
        "  soures.raise_for_status\n",
        "\n",
        "  soup = BeautifulSoup(soures.text, 'html.parser')\n",
        "  # print(soup)\n",
        "  products = soup.find_all('li', class_=\"product-tile left small-6 medium-3h\")\n",
        "  # print(products)\n",
        "  num = 1\n",
        "  for product in products:\n",
        "    productNumber = num\n",
        "    #name = product.find(\"li\", class_=\"product-name-containerl\").a.text.strip()\n",
        "    name = product.find(\"a\", class_=\"product-name-containerl\").a.get('href')\n",
        "    price = product.find(\"span\", class_=\"ada-link\").text.strip().replace('LKR ', '')\n",
        "    oldPrice = product.find(\"span\",class_=\"ada-link\").text.strip().replace('LKR ', '')\n",
        "    \n",
        "\n",
        "    excelSheet.append([productNumber ,name ,price ,oldPrice ])\n",
        "    num = num + 1\n",
        "    # print(productNumber)\n",
        "\n",
        "\n",
        "except Exception as e:\n",
        "  print(e)\n",
        "  exit()\n",
        "\n",
        "excel.save(filename = 'Product Detailsv1.xlsx')"
      ]
    },
    {
      "cell_type": "code",
      "source": [
        "## no 2\n",
        "\n",
        "\n",
        "from email.mime import image\n",
        "import openpyxl\n",
        "import requests\n",
        "from bs4 import BeautifulSoup\n",
        "\n",
        "excel = openpyxl.Workbook()\n",
        "# print(excel.sheetnames)\n",
        "# create a new sheet\n",
        "sheet = excel.active\n",
        "sheet.title = 'IMDB Top 250 Moveis'\n",
        "# add column names\n",
        "sheet.append(['Rank', 'Movie Name', 'Released Year', 'IMDB Rating'])\n",
        "\n",
        "try:\n",
        "    source = requests.get('https://www.imdb.com/chart/top/')\n",
        "    source.raise_for_status()\n",
        "\n",
        "    soup = BeautifulSoup(source.text, 'html.parser')\n",
        "\n",
        "    movies = soup.find('tbody', class_='lister-list').find_all('tr')\n",
        "    \n",
        "    for movie in movies:\n",
        "        name = movie.find('td', class_='titleColumn').a.text\n",
        "\n",
        "        #strip=true means remove all the white spaces\n",
        "        rank = movie.find('td', class_='titleColumn').get_text(strip=True).split('.')[0]\n",
        "        \n",
        "        # //////////////////////////////////\n",
        "        # method 1 for get year\n",
        "        # year = movie.find('td', class_='titleColumn').span.text.replace('(','').replace(')','')\n",
        "        # year = year.replace('(','').replace(')','')\n",
        "\n",
        "        # method 2 for get year\n",
        "        # strip can be used for remove something from the string\n",
        "        year = movie.find('td', class_='titleColumn').span.text.strip('()')\n",
        "        # find image to jpg\n",
        "        img = movie.find('td', class_='posterColumn').a.img['src']\n",
        "\n",
        "        rating = movie.find('td', class_='ratingColumn imdbRating').strong.text\n",
        "\n",
        "        #print all values\n",
        "        print(img)\n",
        "        \n",
        "        #insert data into excel\n",
        "        sheet.append([rank, name, year, rating])\n",
        "        break\n",
        "except Exception as e:\n",
        "    print(e)\n",
        "    exit()\n",
        "\n",
        "#save the excel file\n",
        "# excel.save('IMDB Top 250 Moveis.xlsx')"
      ],
      "metadata": {
        "id": "rHPO3GjkrNc1"
      },
      "execution_count": null,
      "outputs": []
    }
  ]
}