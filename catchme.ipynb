{
  "nbformat": 4,
  "nbformat_minor": 0,
  "metadata": {
    "colab": {
      "provenance": [],
      "include_colab_link": true
    },
    "kernelspec": {
      "name": "python3",
      "display_name": "Python 3"
    },
    "language_info": {
      "name": "python"
    }
  },
  "cells": [
    {
      "cell_type": "markdown",
      "metadata": {
        "id": "view-in-github",
        "colab_type": "text"
      },
      "source": [
        "<a href=\"https://colab.research.google.com/github/NTharuka/Web_Scrapping/blob/main/catchme.ipynb\" target=\"_parent\"><img src=\"https://colab.research.google.com/assets/colab-badge.svg\" alt=\"Open In Colab\"/></a>"
      ]
    },
    {
      "cell_type": "code",
      "execution_count": null,
      "metadata": {
        "id": "D0Ihygx06gtz"
      },
      "outputs": [],
      "source": [
        "from bs4 import BeautifulSoup\n",
        "import requests, openpyxl\n",
        "\n",
        "excel = openpyxl.Workbook()\n",
        "print(excel.sheetnames)\n",
        "sheet = excel.active\n",
        "sheet.title = 'Product Details'\n",
        "print(excel.sheetnames)\n",
        "sheet.append(['Product Number', 'Product Name', 'New Price', 'Old Price', 'discount'])\n",
        "\n",
        "try:\n",
        "    source = requests.get('https://www.catchme.lk/collection/best-sellers-12')\n",
        "    source.raise_for_status()\n",
        "    headers = {'User-Agent': \"Mozilla/5.0 (Windows NT 10.0; Win64; x64) AppleWebKit/537.36 (KHTML, like Gecko) Chrome/42.0.2311.135 Safari/537.36 Edge/12.246\"}\n",
        "\n",
        "    soup = BeautifulSoup(source.text,'html.parser')\n",
        "\n",
        "    products = soup.find('div', class_=\"col-md-2dot3 col-7 p-0 mb-4\").find_all('tr')\n",
        "\n",
        "    n = 0\n",
        "    for x in products:\n",
        "\n",
        "      Pnumber = n\n",
        "      Pname = x.find('h6', class_=\"card-title\").a.text\n",
        "      Nprice = x.find('span', class_=\"price\").get_text(strip=True)\n",
        "      Oprice = x.find('span', class_=\"regular-price small text-muted\")\n",
        "      discount = x.find('span', class_=\"badge badge-saving text-uppercase rounded-0 px-2 py-1\")\n",
        "      n += 1\n",
        "      print(Pnumber, Pname, Nprice, Oprice, discount)\n",
        "      sheet.append([Pnumber, Pname, Nprice, Oprice, discount])\n",
        "\n",
        "except Exception as e:\n",
        "    print(e)\n",
        "\n",
        "excel.save('Catchme Product Details.xlsx')"
      ]
    }
  ]
}