{
  "nbformat": 4,
  "nbformat_minor": 0,
  "metadata": {
    "colab": {
      "provenance": [],
      "include_colab_link": true
    },
    "kernelspec": {
      "name": "python3",
      "display_name": "Python 3"
    },
    "language_info": {
      "name": "python"
    }
  },
  "cells": [
    {
      "cell_type": "markdown",
      "metadata": {
        "id": "view-in-github",
        "colab_type": "text"
      },
      "source": [
        "<a href=\"https://colab.research.google.com/github/NTharuka/Web_Scrapping/blob/main/ODEL_1.ipynb\" target=\"_parent\"><img src=\"https://colab.research.google.com/assets/colab-badge.svg\" alt=\"Open In Colab\"/></a>"
      ]
    },
    {
      "cell_type": "code",
      "execution_count": null,
      "metadata": {
        "colab": {
          "base_uri": "https://localhost:8080/"
        },
        "id": "DFg_5uuCkyTZ",
        "outputId": "b4b0fcdc-8008-4504-c813-65d4294b913f"
      },
      "outputs": [
        {
          "output_type": "stream",
          "name": "stdout",
          "text": [
            "['Sheet']\n",
            "['product details']\n",
            "'NoneType' object is not iterable\n"
          ]
        }
      ],
      "source": [
        "from bs4 import BeautifulSoup\n",
        "import requests, openpyxl\n",
        "\n",
        "excel = openpyxl.Workbook()\n",
        "print(excel.sheetnames)\n",
        "sheet = excel.active\n",
        "sheet.title = 'product details'\n",
        "print(excel.sheetnames)\n",
        "sheet.append(['Product number', 'Product name', 'New price', 'Old price', 'Discount'])\n",
        "\n",
        "try:\n",
        "    source = requests.get('https://odel.lk/deal-products')\n",
        "    source.raise_for_status()\n",
        "    headers = {'User-Agent': \"Mozilla/5.0 (Windows NT 10.0; Win64; x64) AppleWebKit/537.36 (KHTML, like Gecko) Chrome/42.0.2311.135 Safari/537.36 Edge/12.246\"}\n",
        "\n",
        "    soup = BeautifulSoup(source.text,'html.parser')\n",
        "\n",
        "    details = soup.find('div', class_=\"col-sm-6 col-md-4 col-lg-3 p-b-35 product-tile-search\")\n",
        "\n",
        "    n = 0\n",
        "    for i in details:\n",
        "\n",
        "      product_number = n\n",
        "      item_name = i.find(\"a\", class_ = \"stext-104 cl4 hov-cl1 trans-04 js-name-b2 p-b-6\").text. strip()\n",
        "      item_discount = i.find(\"div\", class_ =\"product_tag_discount\").text.strip()\n",
        "      new_price = i.find(\"span\", class_=\"stext-105 cl3\").text.strip()\n",
        "      old_price = i.find(\"del\").text.strip()\n",
        "      n += 1\n",
        "\n",
        "      print(product_number, item_name, new_price, old_price, item_discount)\n",
        "      sheet.append([product_number, item_name, new_price, old_price, item_discount])\n",
        "\n",
        "except Exception as e:\n",
        "    print(e)\n",
        "\n",
        "excel.save('ODEL product details.xlsx')"
      ]
    }
  ]
}