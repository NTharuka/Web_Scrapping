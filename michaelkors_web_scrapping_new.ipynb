{
  "nbformat": 4,
  "nbformat_minor": 0,
  "metadata": {
    "colab": {
      "provenance": [],
      "include_colab_link": true
    },
    "kernelspec": {
      "name": "python3",
      "display_name": "Python 3"
    },
    "language_info": {
      "name": "python"
    }
  },
  "cells": [
    {
      "cell_type": "markdown",
      "metadata": {
        "id": "view-in-github",
        "colab_type": "text"
      },
      "source": [
        "<a href=\"https://colab.research.google.com/github/NTharuka/Web_Scrapping/blob/main/michaelkors_web_scrapping_new.ipynb\" target=\"_parent\"><img src=\"https://colab.research.google.com/assets/colab-badge.svg\" alt=\"Open In Colab\"/></a>"
      ]
    },
    {
      "cell_type": "code",
      "execution_count": null,
      "metadata": {
        "id": "IMQTGw6AhzSV"
      },
      "outputs": [],
      "source": [
        "from bs4 import BeautifulSoup\n",
        "import openpyxl\n",
        "import urllib.request\n",
        "from urllib.request import Request, urlopen\n",
        "\n",
        "excel = openpyxl.Workbook()\n",
        "excelSheet = excel.active\n",
        "excelSheet.append([\"Product Number\" ,\"Product Name\" ,\"New Price\" ,\"Old Price\"])\n",
        "\n",
        "try:\n",
        "    req = Request(\n",
        "        url='https://www.michaelkors.com/sale/men/_/N-28au', \n",
        "        headers={'User-Agent': 'Mozilla/5.0'}\n",
        "    )\n",
        "    webpage = urlopen(req).read()\n",
        "    print(webpage)\n",
        "    soup = BeautifulSoup(webpage, 'html.parser')\n",
        "    # print(soup)\n",
        "    products = soup.find_all('li', class_=\"product-tile left small-6 medium-3\")\n",
        "    # print(len(products))\n",
        "\n",
        "    n = 1\n",
        "    for product in products:\n",
        "        productNumber = n\n",
        "        productName = product.find('li', class_=\"product-name-container\").a.text.strip()\n",
        "        productPrice = product.find('div', class_=\"salePrice\").find('span', class_=\"ada-link visually-hidden\").text.strip()\n",
        "        productOldPrice = product.find('div', class_=\"listPrice\").find('span', class_=\"ada-link visually-hidden\").text.strip()\n",
        "        excelSheet.append([productNumber ,productName ,productPrice ,productOldPrice ])\n",
        "        n+=1\n",
        "        \n",
        "except urllib.error.HTTPError as e:\n",
        "    body = e.read().decode() \n",
        "\n",
        "excel.save(filename = 'Product Detail.xlsx')\n",
        "\n",
        " "
      ]
    }
  ]
}