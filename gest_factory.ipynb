{
  "nbformat": 4,
  "nbformat_minor": 0,
  "metadata": {
    "colab": {
      "provenance": [],
      "include_colab_link": true
    },
    "kernelspec": {
      "name": "python3",
      "display_name": "Python 3"
    },
    "language_info": {
      "name": "python"
    }
  },
  "cells": [
    {
      "cell_type": "markdown",
      "metadata": {
        "id": "view-in-github",
        "colab_type": "text"
      },
      "source": [
        "<a href=\"https://colab.research.google.com/github/NTharuka/Web_Scrapping/blob/main/gest_factory.ipynb\" target=\"_parent\"><img src=\"https://colab.research.google.com/assets/colab-badge.svg\" alt=\"Open In Colab\"/></a>"
      ]
    },
    {
      "cell_type": "code",
      "execution_count": null,
      "metadata": {
        "id": "nQZ_LDE3yOqC"
      },
      "outputs": [],
      "source": [
        "from bs4 import BeautifulSoup\n",
        "import requests, openpyxl\n",
        "\n",
        "excel = openpyxl.Workbook()\n",
        "print(excel.sheetnames)\n",
        "sheet = excel.active\n",
        "sheet.title = 'Product details'\n",
        "print(excel.sheetnames)\n",
        "sheet.append(['Product Number', 'Product Name', 'New Price', 'Old Price', 'Discount'])\n",
        "\n",
        "try:\n",
        "    source = requests.get('https://www.guessfactory.com/us/en/sale/women/view-all ')\n",
        "    source.raise_for_status()\n",
        "    headers = {'User-Agent': \"Mozilla/5.0 (Windows NT 10.0; Win64; x64) AppleWebKit/537.36 (KHTML, like Gecko) Chrome/42.0.2311.135 Safari/537.36 Edge/12.246\"}\n",
        "\n",
        "    soup = BeautifulSoup(source.text,'html.parser')\n",
        "\n",
        "    products = soup.find('div', class_=\"medium-12 row panel tile-listing\").find_all('li')\n",
        "\n",
        "    n = 1\n",
        "    for product in products:\n",
        "\n",
        "      PNumber = n\n",
        "      PName = product.find('li', class_=\"product-name-container\").get_text(strip=True).split('.')[0]\n",
        "      Nprice = product.find('span', class_=\"ada-link\").span.text.strip('()')\n",
        "      Oprice = product.find('span', class_=\"ada-link\").strong.text\n",
        "      Discount = product.find('div', class_=\"dy-product-badge badgeDrkPink dy-limited-edition-badge dy-16251273\").strong.text\n",
        "      n+=1\n",
        "      \n",
        "      print(PNumber, PName, Nprice, Oprice, Discount)\n",
        "      sheet.append([PNumber, PName, Nprice, Oprice, Discount])\n",
        "\n",
        "except Exception as e:\n",
        "    print(e)\n",
        "\n",
        "excel.save('Guess Factory Product Details.xlsx')"
      ]
    }
  ]
}