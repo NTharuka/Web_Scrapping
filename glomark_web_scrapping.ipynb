{
  "nbformat": 4,
  "nbformat_minor": 0,
  "metadata": {
    "colab": {
      "provenance": [],
      "include_colab_link": true
    },
    "kernelspec": {
      "name": "python3",
      "display_name": "Python 3"
    },
    "language_info": {
      "name": "python"
    }
  },
  "cells": [
    {
      "cell_type": "markdown",
      "metadata": {
        "id": "view-in-github",
        "colab_type": "text"
      },
      "source": [
        "<a href=\"https://colab.research.google.com/github/NTharuka/Web_Scrapping/blob/main/glomark_web_scrapping.ipynb\" target=\"_parent\"><img src=\"https://colab.research.google.com/assets/colab-badge.svg\" alt=\"Open In Colab\"/></a>"
      ]
    },
    {
      "cell_type": "code",
      "source": [
        "from bs4 import BeautifulSoup\n",
        "import requests, openpyxl\n",
        "\n",
        "excel = openpyxl.Workbook()\n",
        "print(excel.sheetnames)\n",
        "sheet = excel.active\n",
        "sheet.title = 'Product Details'\n",
        "print(excel.sheetnames)\n",
        "sheet.append(['Product Number', 'Product Name', 'New Price', 'Old Price', 'discount'])\n",
        "\n",
        "try:\n",
        "    source = requests.get('https://glomark.lk/deal-page')\n",
        "    headers = {'User-Agent': \"Mozilla/5.0 (Windows NT 10.0; Win64; x64) AppleWebKit/537.36 (KHTML, like Gecko) Chrome/42.0.2311.135 Safari/537.36 Edge/12.246\"}\n",
        "    source.raise_for_status()\n",
        "\n",
        "    soup = BeautifulSoup(source.text,'html.parser')\n",
        "    products = soup.find_all('div', class_=\"col-6 col-sm-4 col-md-3 col-lg-2 col-xl-2\")\n",
        "    print(len(products))\n",
        "    n = 0\n",
        "    for x in products:\n",
        "      Pnumber = n\n",
        "      Pname = x.find('h3', class_=\"product-title\").span.text.strip()\n",
        "      Nprice = x.find('div', class_=\"price\").find('strong', class_=(\"clr-txt\")).text\n",
        "      Oprice = x.find('div', class_=\"price\").find('strike', class_=('promo-price'))\n",
        "      discount = x.find('span')\n",
        "      n += 1\n",
        "      print(Pnumber, Pname, Nprice, Oprice, discount)\n",
        "      sheet.append([Pnumber, Pname, Nprice, Oprice, discount])\n",
        "\n",
        "except Exception as e:\n",
        "    print(e)\n",
        "\n",
        "excel.save('Glomark Product Details.xlsx')"
      ],
      "metadata": {
        "id": "ZyGNLcH-WR7H",
        "outputId": "4a8a1abc-ef58-4333-8447-a9fb37536e12",
        "colab": {
          "base_uri": "https://localhost:8080/"
        }
      },
      "execution_count": null,
      "outputs": [
        {
          "output_type": "stream",
          "name": "stdout",
          "text": [
            "['Sheet']\n",
            "['Product Details']\n",
            "327\n",
            "0 Pumpkin Rs 57.00 <strike class=\"promo-price\">Rs 72.00</strike> <span style=\"font-size: 18px\">20.8%</span>\n",
            "Cannot convert <strike class=\"promo-price\">Rs 72.00</strike> to Excel\n"
          ]
        }
      ]
    }
  ]
}